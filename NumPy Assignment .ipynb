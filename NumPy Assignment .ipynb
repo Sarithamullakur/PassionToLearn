{
 "cells": [
  {
   "cell_type": "markdown",
   "metadata": {},
   "source": [
    "# NUMPY ASSIGNMENT "
   ]
  },
  {
   "cell_type": "markdown",
   "metadata": {},
   "source": [
    "1. Create a 1D array of numbers from 0 to 9"
   ]
  },
  {
   "cell_type": "code",
   "execution_count": 1,
   "metadata": {},
   "outputs": [
    {
     "name": "stdout",
     "output_type": "stream",
     "text": [
      "1D array of numbers from 0 to 9 :\n",
      "[0 1 2 3 4 5 6 7 8]\n"
     ]
    }
   ],
   "source": [
    "import numpy as np\n",
    "x = np.arange(9)\n",
    "print(\"1D array of numbers from 0 to 9 :\")\n",
    "print(x)"
   ]
  },
  {
   "cell_type": "markdown",
   "metadata": {},
   "source": [
    "2. Create a 3×3 numpy array of all True’s"
   ]
  },
  {
   "cell_type": "code",
   "execution_count": 2,
   "metadata": {},
   "outputs": [
    {
     "name": "stdout",
     "output_type": "stream",
     "text": [
      "3x3 array of all True: \n",
      "\n",
      "[[ True  True  True]\n",
      " [ True  True  True]\n",
      " [ True  True  True]] (3, 3) \n",
      "\n",
      "\n"
     ]
    }
   ],
   "source": [
    "x = np.ones((3,3), dtype=bool)\n",
    " \n",
    "print('3x3 array of all True: \\n')\n",
    "print(x,x.shape,'\\n\\n')  "
   ]
  },
  {
   "cell_type": "markdown",
   "metadata": {},
   "source": [
    "3. Given an array as input, print only odd numbers as output"
   ]
  },
  {
   "cell_type": "code",
   "execution_count": 3,
   "metadata": {},
   "outputs": [
    {
     "name": "stdout",
     "output_type": "stream",
     "text": [
      "45\n",
      "55\n",
      "23\n",
      "21\n"
     ]
    }
   ],
   "source": [
    "arr1 = [45,90,55,23,21,78,10]\n",
    "\n",
    "for i in arr1:\n",
    "    if i % 2 != 0:\n",
    "        print(i)"
   ]
  },
  {
   "cell_type": "markdown",
   "metadata": {},
   "source": [
    "4. Replace all odd numbers in arr with -2"
   ]
  },
  {
   "cell_type": "code",
   "execution_count": 4,
   "metadata": {},
   "outputs": [
    {
     "name": "stdout",
     "output_type": "stream",
     "text": [
      "[-2, -2, -2, 24, -2, 78, 10]\n"
     ]
    }
   ],
   "source": [
    "arr1 = [45,91,55,24,11,78,10]\n",
    "i = 0\n",
    "\n",
    "while(i < len(arr1)):\n",
    "    if arr1[i] % 2 != 0:\n",
    "        arr1[i] = -2\n",
    "    i +=1\n",
    "print(arr1)"
   ]
  },
  {
   "cell_type": "markdown",
   "metadata": {},
   "source": [
    "    5. How to reshape an array?"
   ]
  },
  {
   "cell_type": "code",
   "execution_count": 5,
   "metadata": {},
   "outputs": [
    {
     "data": {
      "text/plain": [
       "array([[0, 1, 2],\n",
       "       [3, 4, 5]])"
      ]
     },
     "execution_count": 5,
     "metadata": {},
     "output_type": "execute_result"
    }
   ],
   "source": [
    "#create an array with (2,3)\n",
    "list1 = np.arange(6).reshape(2,3)\n",
    "list1"
   ]
  },
  {
   "cell_type": "code",
   "execution_count": 6,
   "metadata": {},
   "outputs": [
    {
     "data": {
      "text/plain": [
       "array([[0, 1],\n",
       "       [2, 3],\n",
       "       [4, 5]])"
      ]
     },
     "execution_count": 6,
     "metadata": {},
     "output_type": "execute_result"
    }
   ],
   "source": [
    "np.reshape(list1,(3,2))"
   ]
  },
  {
   "cell_type": "markdown",
   "metadata": {},
   "source": [
    "    6. Convert a 1D array to a 2D array with 2 rows"
   ]
  },
  {
   "cell_type": "code",
   "execution_count": 7,
   "metadata": {},
   "outputs": [
    {
     "name": "stdout",
     "output_type": "stream",
     "text": [
      "Original array shape:\t (8,)\n",
      "Modified 2D array shape:\t (2, 4)\n",
      "2D array elements:\n",
      " [[1 2 3 4]\n",
      " [5 6 7 8]]\n"
     ]
    }
   ],
   "source": [
    "a= np.arange(1,9)\n",
    "print('Original array shape:\\t',a.shape)\n",
    "\n",
    "a_2d = a.reshape(2,4)\n",
    "print('Modified 2D array shape:\\t',a_2d.shape)\n",
    "print('2D array elements:\\n',a_2d)"
   ]
  },
  {
   "cell_type": "markdown",
   "metadata": {},
   "source": [
    "    7. Given an array  a  = [1,2,3,4,5,6,7,8,9] , create  new array b from a such that b includes all odd numbers and 4 multiples. "
   ]
  },
  {
   "cell_type": "code",
   "execution_count": 8,
   "metadata": {},
   "outputs": [
    {
     "name": "stdout",
     "output_type": "stream",
     "text": [
      "There is no odd number & 4 multiples combination in b\n"
     ]
    }
   ],
   "source": [
    "a  = [1,2,3,4,5,6,7,8,9]\n",
    "\n",
    "for i in a:\n",
    "    if ((i % 2 != 0) & (i % 4 ==0)):\n",
    "        b = i\n",
    "        print(b)\n",
    "\n",
    "print(\"There is no odd number & 4 multiples combination in b\")\n",
    "        "
   ]
  },
  {
   "cell_type": "markdown",
   "metadata": {},
   "source": [
    "    8. Given array, check if there are any null values and print them out. "
   ]
  },
  {
   "cell_type": "code",
   "execution_count": 29,
   "metadata": {},
   "outputs": [
    {
     "data": {
      "text/plain": [
       "array([nan])"
      ]
     },
     "execution_count": 29,
     "metadata": {},
     "output_type": "execute_result"
    }
   ],
   "source": [
    "#Create array of numbers\n",
    "x = np.array(range(10,30,2))\n",
    "\n",
    "x = np.append(x,np.nan)     # Added null value as the initial array doesnt have null values\n",
    "x\n",
    "\n",
    "#Check if there are any null values\n",
    "x[np.isnan(x)]"
   ]
  },
  {
   "cell_type": "markdown",
   "metadata": {},
   "source": [
    "    9. How to replace all missing values with 0 in a numpy array?"
   ]
  },
  {
   "cell_type": "code",
   "execution_count": 31,
   "metadata": {},
   "outputs": [
    {
     "data": {
      "text/plain": [
       "array([10., 12., 14., 16., 18., 20., 22., 24., 26., 28.,  0.])"
      ]
     },
     "execution_count": 31,
     "metadata": {},
     "output_type": "execute_result"
    }
   ],
   "source": [
    "x[np.isnan(x)] = 0\n",
    "x"
   ]
  },
  {
   "cell_type": "markdown",
   "metadata": {},
   "source": [
    "    10. How to find the count of each unique number in a NumPy array?"
   ]
  },
  {
   "cell_type": "code",
   "execution_count": 33,
   "metadata": {},
   "outputs": [
    {
     "name": "stdout",
     "output_type": "stream",
     "text": [
      "Original array:\t [ 9  2  1  5 45 16 12 89 78  1  3  2]\n",
      "Unique values:\t [ 1  2  3  5  9 12 16 45 78 89]\n"
     ]
    }
   ],
   "source": [
    "#create array \n",
    "arr = np.array([9,2,1,5,45,16,12,89,78,1,3,2])\n",
    "\n",
    "print(\"Original array:\\t\",arr)\n",
    "\n",
    "#Unique values\n",
    "print(\"Unique values:\\t\",np.unique(arr))"
   ]
  },
  {
   "cell_type": "markdown",
   "metadata": {},
   "source": [
    "    11. How to convert a numeric to a categorical (text) array?"
   ]
  },
  {
   "cell_type": "code",
   "execution_count": 37,
   "metadata": {},
   "outputs": [],
   "source": [
    "#Create numeric array\n",
    "arr_num = np.arange(5)\n",
    "\n",
    "# numpy.array2string(a, max_line_width=None, precision=None, suppress_small=None, separator=' ', prefix='', \n",
    "#style=<no value>, formatter=None, threshold=None, edgeitems=None, sign=None, floatmode=None, suffix='', **kwarg)\n",
    "\n",
    "#np.array2string(arr_num,  "
   ]
  },
  {
   "cell_type": "markdown",
   "metadata": {},
   "source": [
    "    12. Write a program to print all numbers between 99 and 299 which are either divisible by 5 or 7. Exclude the elements which are divisible by both. "
   ]
  },
  {
   "cell_type": "code",
   "execution_count": 21,
   "metadata": {},
   "outputs": [
    {
     "name": "stdout",
     "output_type": "stream",
     "text": [
      "100\n",
      "110\n",
      "112\n",
      "115\n",
      "119\n",
      "120\n",
      "125\n",
      "126\n",
      "130\n",
      "133\n",
      "135\n",
      "145\n",
      "147\n",
      "150\n",
      "154\n",
      "155\n",
      "160\n",
      "161\n",
      "165\n",
      "168\n",
      "170\n",
      "180\n",
      "182\n",
      "185\n",
      "189\n",
      "190\n",
      "195\n",
      "196\n",
      "200\n",
      "203\n",
      "205\n",
      "215\n",
      "217\n",
      "220\n",
      "224\n",
      "225\n",
      "230\n",
      "231\n",
      "235\n",
      "238\n",
      "240\n",
      "250\n",
      "252\n",
      "255\n",
      "259\n",
      "260\n",
      "265\n",
      "266\n",
      "270\n",
      "273\n",
      "275\n",
      "285\n",
      "287\n",
      "290\n",
      "294\n",
      "295\n"
     ]
    }
   ],
   "source": [
    "ser = np.arange(99,299)\n",
    "i = 0\n",
    "\n",
    "while i < len(ser):\n",
    "    if (ser[i] % 7 == 0) & (ser[i] % 5 == 0):\n",
    "        pass\n",
    "    elif (ser[i] % 7 ==0) or (ser[i] % 5 == 0):\n",
    "        print(ser[i])\n",
    "    i += 1         \n"
   ]
  },
  {
   "cell_type": "markdown",
   "metadata": {},
   "source": [
    "    13. Write a program to reverse an array and print (Don’t use inbuilt reverse functions)"
   ]
  },
  {
   "cell_type": "code",
   "execution_count": null,
   "metadata": {},
   "outputs": [],
   "source": [
    "a  = [1,2,3,4,5,6,7,8,9]\n",
    "\n",
    "print(\"Original Array:\",a)\n",
    "\n",
    "a1 = a[::-1]\n",
    "print(\"reversed array:\",a1)"
   ]
  },
  {
   "cell_type": "code",
   "execution_count": null,
   "metadata": {},
   "outputs": [],
   "source": []
  }
 ],
 "metadata": {
  "kernelspec": {
   "display_name": "Python 3",
   "language": "python",
   "name": "python3"
  },
  "language_info": {
   "codemirror_mode": {
    "name": "ipython",
    "version": 3
   },
   "file_extension": ".py",
   "mimetype": "text/x-python",
   "name": "python",
   "nbconvert_exporter": "python",
   "pygments_lexer": "ipython3",
   "version": "3.7.3"
  }
 },
 "nbformat": 4,
 "nbformat_minor": 2
}
